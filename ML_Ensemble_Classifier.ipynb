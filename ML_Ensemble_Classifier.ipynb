{
 "cells": [
  {
   "cell_type": "markdown",
   "metadata": {},
   "source": [
    "# 1. Importing the libraries\n"
   ]
  },
  {
   "cell_type": "code",
   "execution_count": 1,
   "metadata": {},
   "outputs": [],
   "source": [
    "import pandas as pd\n",
    "import numpy as np\n",
    "import matplotlib.pyplot as plt\n",
    "import seaborn as sns\n",
    "%matplotlib inline\n",
    "import warnings\n",
    "warnings.filterwarnings('ignore')\n",
    "import time\n",
    "from sklearn.metrics import confusion_matrix,accuracy_score,classification_report,auc,roc_curve,roc_auc_score"
   ]
  },
  {
   "cell_type": "markdown",
   "metadata": {},
   "source": [
    "# 2. Import the Dataset\n"
   ]
  },
  {
   "cell_type": "code",
   "execution_count": 2,
   "metadata": {},
   "outputs": [],
   "source": [
    "df = pd.read_csv('data_response.csv')"
   ]
  },
  {
   "cell_type": "code",
   "execution_count": 3,
   "metadata": {},
   "outputs": [
    {
     "data": {
      "text/html": [
       "<div>\n",
       "<style scoped>\n",
       "    .dataframe tbody tr th:only-of-type {\n",
       "        vertical-align: middle;\n",
       "    }\n",
       "\n",
       "    .dataframe tbody tr th {\n",
       "        vertical-align: top;\n",
       "    }\n",
       "\n",
       "    .dataframe thead th {\n",
       "        text-align: right;\n",
       "    }\n",
       "</style>\n",
       "<table border=\"1\" class=\"dataframe\">\n",
       "  <thead>\n",
       "    <tr style=\"text-align: right;\">\n",
       "      <th></th>\n",
       "      <th>Unnamed: 0</th>\n",
       "      <th>id</th>\n",
       "      <th>Gender</th>\n",
       "      <th>Age</th>\n",
       "      <th>Driving_License</th>\n",
       "      <th>Region_Code</th>\n",
       "      <th>Previously_Insured</th>\n",
       "      <th>Vehicle_Age</th>\n",
       "      <th>Vehicle_Damage</th>\n",
       "      <th>Annual_Premium</th>\n",
       "      <th>Policy_Sales_Channel</th>\n",
       "      <th>Vintage</th>\n",
       "      <th>Response</th>\n",
       "    </tr>\n",
       "  </thead>\n",
       "  <tbody>\n",
       "    <tr>\n",
       "      <th>0</th>\n",
       "      <td>10770</td>\n",
       "      <td>10771</td>\n",
       "      <td>Female</td>\n",
       "      <td>42</td>\n",
       "      <td>1</td>\n",
       "      <td>11.0</td>\n",
       "      <td>0</td>\n",
       "      <td>1-2 Year</td>\n",
       "      <td>Yes</td>\n",
       "      <td>48521.0</td>\n",
       "      <td>122.0</td>\n",
       "      <td>206</td>\n",
       "      <td>1</td>\n",
       "    </tr>\n",
       "    <tr>\n",
       "      <th>1</th>\n",
       "      <td>19506</td>\n",
       "      <td>19507</td>\n",
       "      <td>Male</td>\n",
       "      <td>48</td>\n",
       "      <td>1</td>\n",
       "      <td>34.0</td>\n",
       "      <td>0</td>\n",
       "      <td>1-2 Year</td>\n",
       "      <td>Yes</td>\n",
       "      <td>2630.0</td>\n",
       "      <td>156.0</td>\n",
       "      <td>223</td>\n",
       "      <td>1</td>\n",
       "    </tr>\n",
       "    <tr>\n",
       "      <th>2</th>\n",
       "      <td>6228</td>\n",
       "      <td>6229</td>\n",
       "      <td>Male</td>\n",
       "      <td>76</td>\n",
       "      <td>1</td>\n",
       "      <td>28.0</td>\n",
       "      <td>1</td>\n",
       "      <td>1-2 Year</td>\n",
       "      <td>No</td>\n",
       "      <td>29620.0</td>\n",
       "      <td>26.0</td>\n",
       "      <td>69</td>\n",
       "      <td>0</td>\n",
       "    </tr>\n",
       "  </tbody>\n",
       "</table>\n",
       "</div>"
      ],
      "text/plain": [
       "   Unnamed: 0     id  Gender  Age  Driving_License  Region_Code  \\\n",
       "0       10770  10771  Female   42                1         11.0   \n",
       "1       19506  19507    Male   48                1         34.0   \n",
       "2        6228   6229    Male   76                1         28.0   \n",
       "\n",
       "   Previously_Insured Vehicle_Age Vehicle_Damage  Annual_Premium  \\\n",
       "0                   0    1-2 Year            Yes         48521.0   \n",
       "1                   0    1-2 Year            Yes          2630.0   \n",
       "2                   1    1-2 Year             No         29620.0   \n",
       "\n",
       "   Policy_Sales_Channel  Vintage  Response  \n",
       "0                 122.0      206         1  \n",
       "1                 156.0      223         1  \n",
       "2                  26.0       69         0  "
      ]
     },
     "execution_count": 3,
     "metadata": {},
     "output_type": "execute_result"
    }
   ],
   "source": [
    "df.head(3)"
   ]
  },
  {
   "cell_type": "markdown",
   "metadata": {},
   "source": [
    "# 3. Check the basic statistics of the whole dataset and give theinterpretations\n",
    "* Discuss the need of basic statistics in data science\n"
   ]
  },
  {
   "cell_type": "code",
   "execution_count": 4,
   "metadata": {},
   "outputs": [
    {
     "data": {
      "text/html": [
       "<div>\n",
       "<style scoped>\n",
       "    .dataframe tbody tr th:only-of-type {\n",
       "        vertical-align: middle;\n",
       "    }\n",
       "\n",
       "    .dataframe tbody tr th {\n",
       "        vertical-align: top;\n",
       "    }\n",
       "\n",
       "    .dataframe thead th {\n",
       "        text-align: right;\n",
       "    }\n",
       "</style>\n",
       "<table border=\"1\" class=\"dataframe\">\n",
       "  <thead>\n",
       "    <tr style=\"text-align: right;\">\n",
       "      <th></th>\n",
       "      <th>Unnamed: 0</th>\n",
       "      <th>id</th>\n",
       "      <th>Age</th>\n",
       "      <th>Driving_License</th>\n",
       "      <th>Region_Code</th>\n",
       "      <th>Previously_Insured</th>\n",
       "      <th>Annual_Premium</th>\n",
       "      <th>Policy_Sales_Channel</th>\n",
       "      <th>Vintage</th>\n",
       "      <th>Response</th>\n",
       "    </tr>\n",
       "  </thead>\n",
       "  <tbody>\n",
       "    <tr>\n",
       "      <th>count</th>\n",
       "      <td>10000.000000</td>\n",
       "      <td>10000.000000</td>\n",
       "      <td>10000.000000</td>\n",
       "      <td>10000.000000</td>\n",
       "      <td>10000.000000</td>\n",
       "      <td>10000.000000</td>\n",
       "      <td>10000.000000</td>\n",
       "      <td>10000.000000</td>\n",
       "      <td>10000.000000</td>\n",
       "      <td>10000.000000</td>\n",
       "    </tr>\n",
       "    <tr>\n",
       "      <th>mean</th>\n",
       "      <td>7351.088300</td>\n",
       "      <td>7352.088300</td>\n",
       "      <td>40.018900</td>\n",
       "      <td>0.998000</td>\n",
       "      <td>26.447800</td>\n",
       "      <td>0.330000</td>\n",
       "      <td>31125.978400</td>\n",
       "      <td>106.871600</td>\n",
       "      <td>154.910000</td>\n",
       "      <td>0.350000</td>\n",
       "    </tr>\n",
       "    <tr>\n",
       "      <th>std</th>\n",
       "      <td>7130.381057</td>\n",
       "      <td>7130.381057</td>\n",
       "      <td>14.850555</td>\n",
       "      <td>0.044679</td>\n",
       "      <td>12.719947</td>\n",
       "      <td>0.470236</td>\n",
       "      <td>16975.427752</td>\n",
       "      <td>55.389534</td>\n",
       "      <td>83.716177</td>\n",
       "      <td>0.476993</td>\n",
       "    </tr>\n",
       "    <tr>\n",
       "      <th>min</th>\n",
       "      <td>0.000000</td>\n",
       "      <td>1.000000</td>\n",
       "      <td>20.000000</td>\n",
       "      <td>0.000000</td>\n",
       "      <td>0.000000</td>\n",
       "      <td>0.000000</td>\n",
       "      <td>2630.000000</td>\n",
       "      <td>1.000000</td>\n",
       "      <td>10.000000</td>\n",
       "      <td>0.000000</td>\n",
       "    </tr>\n",
       "    <tr>\n",
       "      <th>25%</th>\n",
       "      <td>2499.750000</td>\n",
       "      <td>2500.750000</td>\n",
       "      <td>26.000000</td>\n",
       "      <td>1.000000</td>\n",
       "      <td>15.000000</td>\n",
       "      <td>0.000000</td>\n",
       "      <td>24867.250000</td>\n",
       "      <td>26.000000</td>\n",
       "      <td>83.000000</td>\n",
       "      <td>0.000000</td>\n",
       "    </tr>\n",
       "    <tr>\n",
       "      <th>50%</th>\n",
       "      <td>4999.500000</td>\n",
       "      <td>5000.500000</td>\n",
       "      <td>39.000000</td>\n",
       "      <td>1.000000</td>\n",
       "      <td>28.000000</td>\n",
       "      <td>0.000000</td>\n",
       "      <td>32234.000000</td>\n",
       "      <td>124.000000</td>\n",
       "      <td>155.000000</td>\n",
       "      <td>0.000000</td>\n",
       "    </tr>\n",
       "    <tr>\n",
       "      <th>75%</th>\n",
       "      <td>8036.250000</td>\n",
       "      <td>8037.250000</td>\n",
       "      <td>50.000000</td>\n",
       "      <td>1.000000</td>\n",
       "      <td>34.000000</td>\n",
       "      <td>1.000000</td>\n",
       "      <td>40251.500000</td>\n",
       "      <td>152.000000</td>\n",
       "      <td>227.000000</td>\n",
       "      <td>1.000000</td>\n",
       "    </tr>\n",
       "    <tr>\n",
       "      <th>max</th>\n",
       "      <td>28123.000000</td>\n",
       "      <td>28124.000000</td>\n",
       "      <td>84.000000</td>\n",
       "      <td>1.000000</td>\n",
       "      <td>52.000000</td>\n",
       "      <td>1.000000</td>\n",
       "      <td>267698.000000</td>\n",
       "      <td>163.000000</td>\n",
       "      <td>299.000000</td>\n",
       "      <td>1.000000</td>\n",
       "    </tr>\n",
       "  </tbody>\n",
       "</table>\n",
       "</div>"
      ],
      "text/plain": [
       "         Unnamed: 0            id           Age  Driving_License  \\\n",
       "count  10000.000000  10000.000000  10000.000000     10000.000000   \n",
       "mean    7351.088300   7352.088300     40.018900         0.998000   \n",
       "std     7130.381057   7130.381057     14.850555         0.044679   \n",
       "min        0.000000      1.000000     20.000000         0.000000   \n",
       "25%     2499.750000   2500.750000     26.000000         1.000000   \n",
       "50%     4999.500000   5000.500000     39.000000         1.000000   \n",
       "75%     8036.250000   8037.250000     50.000000         1.000000   \n",
       "max    28123.000000  28124.000000     84.000000         1.000000   \n",
       "\n",
       "        Region_Code  Previously_Insured  Annual_Premium  Policy_Sales_Channel  \\\n",
       "count  10000.000000        10000.000000    10000.000000          10000.000000   \n",
       "mean      26.447800            0.330000    31125.978400            106.871600   \n",
       "std       12.719947            0.470236    16975.427752             55.389534   \n",
       "min        0.000000            0.000000     2630.000000              1.000000   \n",
       "25%       15.000000            0.000000    24867.250000             26.000000   \n",
       "50%       28.000000            0.000000    32234.000000            124.000000   \n",
       "75%       34.000000            1.000000    40251.500000            152.000000   \n",
       "max       52.000000            1.000000   267698.000000            163.000000   \n",
       "\n",
       "            Vintage      Response  \n",
       "count  10000.000000  10000.000000  \n",
       "mean     154.910000      0.350000  \n",
       "std       83.716177      0.476993  \n",
       "min       10.000000      0.000000  \n",
       "25%       83.000000      0.000000  \n",
       "50%      155.000000      0.000000  \n",
       "75%      227.000000      1.000000  \n",
       "max      299.000000      1.000000  "
      ]
     },
     "execution_count": 4,
     "metadata": {},
     "output_type": "execute_result"
    }
   ],
   "source": [
    "df.describe()"
   ]
  },
  {
   "cell_type": "markdown",
   "metadata": {},
   "source": [
    "# 4. Show the dependent variable (Response) distribution and write the observations of it."
   ]
  },
  {
   "cell_type": "code",
   "execution_count": 5,
   "metadata": {},
   "outputs": [
    {
     "data": {
      "text/plain": [
       "<AxesSubplot:xlabel='Response', ylabel='Density'>"
      ]
     },
     "execution_count": 5,
     "metadata": {},
     "output_type": "execute_result"
    },
    {
     "data": {
      "image/png": "[encoded data removed]",
      "text/plain": [
       "<Figure size 432x288 with 1 Axes>"
      ]
     },
     "metadata": {
      "needs_background": "light"
     },
     "output_type": "display_data"
    }
   ],
   "source": [
    "sns.distplot(df.Response)"
   ]
  },
  {
   "cell_type": "markdown",
   "metadata": {},
   "source": [
    "# 5. show that how the independent variables are distributed with dependent variable\n",
    "Note: Use groupby or hue in plotting"
   ]
  },
  {
   "cell_type": "code",
   "execution_count": 6,
   "metadata": {},
   "outputs": [
    {
     "data": {
      "text/plain": [
       "<AxesSubplot:xlabel='Gender', ylabel='Age'>"
      ]
     },
     "execution_count": 6,
     "metadata": {},
     "output_type": "execute_result"
    },
    {
     "data": {
      "image/png": "[encoded data removed]",
      "text/plain": [
       "<Figure size 432x288 with 1 Axes>"
      ]
     },
     "metadata": {
      "needs_background": "light"
     },
     "output_type": "display_data"
    }
   ],
   "source": [
    "sns.barplot(x = 'Gender', y= 'Age' , hue = 'Response',data = df)"
   ]
  },
  {
   "cell_type": "markdown",
   "metadata": {},
   "source": [
    "# 6. Do the required Data Preprocessing\n",
    "Note:\n",
    "1. Discuss about what is encoding why do we need encoding and Discuss about Lable\n",
    "encoding and Onehot encoding\n",
    "2. Convert all categorical columns into numerical by using\n",
    "Lable encoder or\n",
    "one hot encoder or\n",
    "get dummies or\n",
    "use any method of mapping"
   ]
  },
  {
   "cell_type": "code",
   "execution_count": 7,
   "metadata": {},
   "outputs": [],
   "source": [
    "df = df.drop(columns = (['Unnamed: 0','id']),axis = 1)"
   ]
  },
  {
   "cell_type": "code",
   "execution_count": 8,
   "metadata": {},
   "outputs": [],
   "source": [
    "df_dummy= pd.get_dummies(df,drop_first=True)"
   ]
  },
  {
   "cell_type": "code",
   "execution_count": 9,
   "metadata": {},
   "outputs": [
    {
     "data": {
      "text/plain": [
       "(10000, 12)"
      ]
     },
     "execution_count": 9,
     "metadata": {},
     "output_type": "execute_result"
    }
   ],
   "source": [
    "df_dummy.shape"
   ]
  },
  {
   "cell_type": "code",
   "execution_count": 10,
   "metadata": {},
   "outputs": [
    {
     "data": {
      "text/html": [
       "<div>\n",
       "<style scoped>\n",
       "    .dataframe tbody tr th:only-of-type {\n",
       "        vertical-align: middle;\n",
       "    }\n",
       "\n",
       "    .dataframe tbody tr th {\n",
       "        vertical-align: top;\n",
       "    }\n",
       "\n",
       "    .dataframe thead th {\n",
       "        text-align: right;\n",
       "    }\n",
       "</style>\n",
       "<table border=\"1\" class=\"dataframe\">\n",
       "  <thead>\n",
       "    <tr style=\"text-align: right;\">\n",
       "      <th></th>\n",
       "      <th>Age</th>\n",
       "      <th>Driving_License</th>\n",
       "      <th>Region_Code</th>\n",
       "      <th>Previously_Insured</th>\n",
       "      <th>Annual_Premium</th>\n",
       "      <th>Policy_Sales_Channel</th>\n",
       "      <th>Vintage</th>\n",
       "      <th>Response</th>\n",
       "      <th>Gender_Male</th>\n",
       "      <th>Vehicle_Age_&lt; 1 Year</th>\n",
       "      <th>Vehicle_Age_&gt; 2 Years</th>\n",
       "      <th>Vehicle_Damage_Yes</th>\n",
       "    </tr>\n",
       "  </thead>\n",
       "  <tbody>\n",
       "    <tr>\n",
       "      <th>0</th>\n",
       "      <td>42</td>\n",
       "      <td>1</td>\n",
       "      <td>11.0</td>\n",
       "      <td>0</td>\n",
       "      <td>48521.0</td>\n",
       "      <td>122.0</td>\n",
       "      <td>206</td>\n",
       "      <td>1</td>\n",
       "      <td>0</td>\n",
       "      <td>0</td>\n",
       "      <td>0</td>\n",
       "      <td>1</td>\n",
       "    </tr>\n",
       "    <tr>\n",
       "      <th>1</th>\n",
       "      <td>48</td>\n",
       "      <td>1</td>\n",
       "      <td>34.0</td>\n",
       "      <td>0</td>\n",
       "      <td>2630.0</td>\n",
       "      <td>156.0</td>\n",
       "      <td>223</td>\n",
       "      <td>1</td>\n",
       "      <td>1</td>\n",
       "      <td>0</td>\n",
       "      <td>0</td>\n",
       "      <td>1</td>\n",
       "    </tr>\n",
       "    <tr>\n",
       "      <th>2</th>\n",
       "      <td>76</td>\n",
       "      <td>1</td>\n",
       "      <td>28.0</td>\n",
       "      <td>1</td>\n",
       "      <td>29620.0</td>\n",
       "      <td>26.0</td>\n",
       "      <td>69</td>\n",
       "      <td>0</td>\n",
       "      <td>1</td>\n",
       "      <td>0</td>\n",
       "      <td>0</td>\n",
       "      <td>0</td>\n",
       "    </tr>\n",
       "    <tr>\n",
       "      <th>3</th>\n",
       "      <td>48</td>\n",
       "      <td>1</td>\n",
       "      <td>15.0</td>\n",
       "      <td>0</td>\n",
       "      <td>29781.0</td>\n",
       "      <td>26.0</td>\n",
       "      <td>140</td>\n",
       "      <td>1</td>\n",
       "      <td>1</td>\n",
       "      <td>0</td>\n",
       "      <td>0</td>\n",
       "      <td>1</td>\n",
       "    </tr>\n",
       "    <tr>\n",
       "      <th>4</th>\n",
       "      <td>41</td>\n",
       "      <td>1</td>\n",
       "      <td>46.0</td>\n",
       "      <td>0</td>\n",
       "      <td>23826.0</td>\n",
       "      <td>124.0</td>\n",
       "      <td>261</td>\n",
       "      <td>1</td>\n",
       "      <td>1</td>\n",
       "      <td>0</td>\n",
       "      <td>0</td>\n",
       "      <td>1</td>\n",
       "    </tr>\n",
       "  </tbody>\n",
       "</table>\n",
       "</div>"
      ],
      "text/plain": [
       "   Age  Driving_License  Region_Code  Previously_Insured  Annual_Premium  \\\n",
       "0   42                1         11.0                   0         48521.0   \n",
       "1   48                1         34.0                   0          2630.0   \n",
       "2   76                1         28.0                   1         29620.0   \n",
       "3   48                1         15.0                   0         29781.0   \n",
       "4   41                1         46.0                   0         23826.0   \n",
       "\n",
       "   Policy_Sales_Channel  Vintage  Response  Gender_Male  Vehicle_Age_< 1 Year  \\\n",
       "0                 122.0      206         1            0                     0   \n",
       "1                 156.0      223         1            1                     0   \n",
       "2                  26.0       69         0            1                     0   \n",
       "3                  26.0      140         1            1                     0   \n",
       "4                 124.0      261         1            1                     0   \n",
       "\n",
       "   Vehicle_Age_> 2 Years  Vehicle_Damage_Yes  \n",
       "0                      0                   1  \n",
       "1                      0                   1  \n",
       "2                      0                   0  \n",
       "3                      0                   1  \n",
       "4                      0                   1  "
      ]
     },
     "execution_count": 10,
     "metadata": {},
     "output_type": "execute_result"
    }
   ],
   "source": [
    "df_dummy.head()"
   ]
  },
  {
   "cell_type": "code",
   "execution_count": null,
   "metadata": {},
   "outputs": [],
   "source": []
  },
  {
   "cell_type": "markdown",
   "metadata": {},
   "source": [
    "# 7. Devide the whole data into X and y\n",
    "Note:\n",
    "Use that iloc or loc methods\n"
   ]
  },
  {
   "cell_type": "code",
   "execution_count": 11,
   "metadata": {},
   "outputs": [],
   "source": [
    "df_dummy['Vehicle_Age_SM_1_Year'] = df_dummy['Vehicle_Age_< 1 Year']\n",
    "df_dummy['Vehicle_Age_GR_2_Years'] = df_dummy['Vehicle_Age_> 2 Years']"
   ]
  },
  {
   "cell_type": "code",
   "execution_count": 12,
   "metadata": {},
   "outputs": [],
   "source": [
    "df_dummy.drop(columns = (['Vehicle_Age_< 1 Year','Vehicle_Age_> 2 Years']),axis = 1 , inplace=True)"
   ]
  },
  {
   "cell_type": "code",
   "execution_count": 13,
   "metadata": {},
   "outputs": [
    {
     "data": {
      "text/plain": [
       "Index(['Age', 'Driving_License', 'Region_Code', 'Previously_Insured',\n",
       "       'Annual_Premium', 'Policy_Sales_Channel', 'Vintage', 'Response',\n",
       "       'Gender_Male', 'Vehicle_Damage_Yes', 'Vehicle_Age_SM_1_Year',\n",
       "       'Vehicle_Age_GR_2_Years'],\n",
       "      dtype='object')"
      ]
     },
     "execution_count": 13,
     "metadata": {},
     "output_type": "execute_result"
    }
   ],
   "source": [
    "df_dummy.columns"
   ]
  },
  {
   "cell_type": "code",
   "execution_count": 14,
   "metadata": {},
   "outputs": [],
   "source": [
    "# Splitting data into independent and dependent\n",
    "X = df_dummy[['Age', 'Driving_License', 'Region_Code', 'Previously_Insured','Annual_Premium', 'Policy_Sales_Channel', 'Vintage','Gender_Male','Vehicle_Damage_Yes','Vehicle_Age_SM_1_Year','Vehicle_Age_GR_2_Years']]# independent variable\n",
    "\n",
    "Y = df_dummy['Response'] # dependent variable"
   ]
  },
  {
   "cell_type": "code",
   "execution_count": 15,
   "metadata": {},
   "outputs": [
    {
     "data": {
      "text/html": [
       "<div>\n",
       "<style scoped>\n",
       "    .dataframe tbody tr th:only-of-type {\n",
       "        vertical-align: middle;\n",
       "    }\n",
       "\n",
       "    .dataframe tbody tr th {\n",
       "        vertical-align: top;\n",
       "    }\n",
       "\n",
       "    .dataframe thead th {\n",
       "        text-align: right;\n",
       "    }\n",
       "</style>\n",
       "<table border=\"1\" class=\"dataframe\">\n",
       "  <thead>\n",
       "    <tr style=\"text-align: right;\">\n",
       "      <th></th>\n",
       "      <th>Age</th>\n",
       "      <th>Driving_License</th>\n",
       "      <th>Region_Code</th>\n",
       "      <th>Previously_Insured</th>\n",
       "      <th>Annual_Premium</th>\n",
       "      <th>Policy_Sales_Channel</th>\n",
       "      <th>Vintage</th>\n",
       "      <th>Gender_Male</th>\n",
       "      <th>Vehicle_Damage_Yes</th>\n",
       "      <th>Vehicle_Age_SM_1_Year</th>\n",
       "      <th>Vehicle_Age_GR_2_Years</th>\n",
       "    </tr>\n",
       "  </thead>\n",
       "  <tbody>\n",
       "    <tr>\n",
       "      <th>0</th>\n",
       "      <td>42</td>\n",
       "      <td>1</td>\n",
       "      <td>11.0</td>\n",
       "      <td>0</td>\n",
       "      <td>48521.0</td>\n",
       "      <td>122.0</td>\n",
       "      <td>206</td>\n",
       "      <td>0</td>\n",
       "      <td>1</td>\n",
       "      <td>0</td>\n",
       "      <td>0</td>\n",
       "    </tr>\n",
       "    <tr>\n",
       "      <th>1</th>\n",
       "      <td>48</td>\n",
       "      <td>1</td>\n",
       "      <td>34.0</td>\n",
       "      <td>0</td>\n",
       "      <td>2630.0</td>\n",
       "      <td>156.0</td>\n",
       "      <td>223</td>\n",
       "      <td>1</td>\n",
       "      <td>1</td>\n",
       "      <td>0</td>\n",
       "      <td>0</td>\n",
       "    </tr>\n",
       "    <tr>\n",
       "      <th>2</th>\n",
       "      <td>76</td>\n",
       "      <td>1</td>\n",
       "      <td>28.0</td>\n",
       "      <td>1</td>\n",
       "      <td>29620.0</td>\n",
       "      <td>26.0</td>\n",
       "      <td>69</td>\n",
       "      <td>1</td>\n",
       "      <td>0</td>\n",
       "      <td>0</td>\n",
       "      <td>0</td>\n",
       "    </tr>\n",
       "    <tr>\n",
       "      <th>3</th>\n",
       "      <td>48</td>\n",
       "      <td>1</td>\n",
       "      <td>15.0</td>\n",
       "      <td>0</td>\n",
       "      <td>29781.0</td>\n",
       "      <td>26.0</td>\n",
       "      <td>140</td>\n",
       "      <td>1</td>\n",
       "      <td>1</td>\n",
       "      <td>0</td>\n",
       "      <td>0</td>\n",
       "    </tr>\n",
       "    <tr>\n",
       "      <th>4</th>\n",
       "      <td>41</td>\n",
       "      <td>1</td>\n",
       "      <td>46.0</td>\n",
       "      <td>0</td>\n",
       "      <td>23826.0</td>\n",
       "      <td>124.0</td>\n",
       "      <td>261</td>\n",
       "      <td>1</td>\n",
       "      <td>1</td>\n",
       "      <td>0</td>\n",
       "      <td>0</td>\n",
       "    </tr>\n",
       "  </tbody>\n",
       "</table>\n",
       "</div>"
      ],
      "text/plain": [
       "   Age  Driving_License  Region_Code  Previously_Insured  Annual_Premium  \\\n",
       "0   42                1         11.0                   0         48521.0   \n",
       "1   48                1         34.0                   0          2630.0   \n",
       "2   76                1         28.0                   1         29620.0   \n",
       "3   48                1         15.0                   0         29781.0   \n",
       "4   41                1         46.0                   0         23826.0   \n",
       "\n",
       "   Policy_Sales_Channel  Vintage  Gender_Male  Vehicle_Damage_Yes  \\\n",
       "0                 122.0      206            0                   1   \n",
       "1                 156.0      223            1                   1   \n",
       "2                  26.0       69            1                   0   \n",
       "3                  26.0      140            1                   1   \n",
       "4                 124.0      261            1                   1   \n",
       "\n",
       "   Vehicle_Age_SM_1_Year  Vehicle_Age_GR_2_Years  \n",
       "0                      0                       0  \n",
       "1                      0                       0  \n",
       "2                      0                       0  \n",
       "3                      0                       0  \n",
       "4                      0                       0  "
      ]
     },
     "execution_count": 15,
     "metadata": {},
     "output_type": "execute_result"
    }
   ],
   "source": [
    "X.head()"
   ]
  },
  {
   "cell_type": "code",
   "execution_count": 16,
   "metadata": {},
   "outputs": [
    {
     "data": {
      "text/plain": [
       "0    1\n",
       "1    1\n",
       "2    0\n",
       "3    1\n",
       "4    1\n",
       "Name: Response, dtype: int64"
      ]
     },
     "execution_count": 16,
     "metadata": {},
     "output_type": "execute_result"
    }
   ],
   "source": [
    "Y.head()"
   ]
  },
  {
   "cell_type": "markdown",
   "metadata": {},
   "source": [
    "# 8. split the data into train and test\n",
    "Note:\n",
    "\n",
    "* Use train test split method\n",
    "\n",
    "* Discuss that why do we need train and test split in model fitting"
   ]
  },
  {
   "cell_type": "code",
   "execution_count": 17,
   "metadata": {},
   "outputs": [],
   "source": [
    "# split the data into two parts training and testing\n",
    "from sklearn.model_selection import train_test_split\n",
    "X_train,X_test,Y_train,Y_test = train_test_split(X,Y, test_size = 0.3)\n"
   ]
  },
  {
   "cell_type": "code",
   "execution_count": 18,
   "metadata": {},
   "outputs": [
    {
     "data": {
      "text/plain": [
       "((7000, 11), (3000, 11), (7000,), (3000,))"
      ]
     },
     "execution_count": 18,
     "metadata": {},
     "output_type": "execute_result"
    }
   ],
   "source": [
    "X_train.shape,X_test.shape,Y_train.shape,Y_test.shape"
   ]
  },
  {
   "cell_type": "markdown",
   "metadata": {},
   "source": [
    "# 9. Apply The Random Forest Model.\n"
   ]
  },
  {
   "cell_type": "code",
   "execution_count": 19,
   "metadata": {},
   "outputs": [
    {
     "data": {
      "text/plain": [
       "RandomForestClassifier(criterion='entropy', random_state=0)"
      ]
     },
     "execution_count": 19,
     "metadata": {},
     "output_type": "execute_result"
    }
   ],
   "source": [
    "from sklearn.ensemble import RandomForestClassifier\n",
    "classifier = RandomForestClassifier(n_estimators=100,criterion='entropy',random_state=0)\n",
    "classifier.fit(X_train,Y_train)"
   ]
  },
  {
   "cell_type": "code",
   "execution_count": 20,
   "metadata": {},
   "outputs": [],
   "source": [
    "y_pred = classifier.predict(X_test)"
   ]
  },
  {
   "cell_type": "markdown",
   "metadata": {},
   "source": [
    "# 10. Find The Classification Metrics and Give the Observations to\n",
    "Metric for Random Forest algorithms\n",
    "\n",
    "Discuss the every metric and why these metrics are usefull for model.\n",
    "\n",
    "* Confusion Matrix\n",
    "\n",
    "    * Precision\n",
    "\n",
    "    * Recall\n",
    "\n",
    "    * Specificity\n",
    "\n",
    "    * Sensitivity\n",
    "\n",
    "    * Accuracy\n",
    "\n",
    "    * F1-score\n",
    "    \n",
    "    * True Positive Rate\n",
    "\n",
    "    * False Positive Rate\n",
    "\n",
    "* Classification Report\n",
    "\n",
    "* ROC_AUC Curve\n",
    "\n"
   ]
  },
  {
   "cell_type": "code",
   "execution_count": 21,
   "metadata": {},
   "outputs": [
    {
     "name": "stdout",
     "output_type": "stream",
     "text": [
      "[[1528  411]\n",
      " [ 319  742]]\n",
      "Accuracy score: 0.7566666666666667\n",
      "Precision score: 0.6435385949696444\n",
      "Recall score: 0.6993402450518379\n"
     ]
    }
   ],
   "source": [
    "from sklearn import metrics\n",
    "cm = metrics.confusion_matrix(Y_test, y_pred) \n",
    "accuracy = metrics.accuracy_score(Y_test, y_pred) \n",
    "precision = metrics.precision_score(Y_test, y_pred) \n",
    "recall = metrics.recall_score(Y_test, y_pred)\n",
    "\n",
    "print(cm)\n",
    "print(\"Accuracy score:\",accuracy)\n",
    "print(\"Precision score:\",precision)\n",
    "print(\"Recall score:\",recall)"
   ]
  },
  {
   "cell_type": "code",
   "execution_count": 22,
   "metadata": {},
   "outputs": [
    {
     "name": "stdout",
     "output_type": "stream",
     "text": [
      "              precision    recall  f1-score   support\n",
      "\n",
      "           0       0.83      0.79      0.81      1939\n",
      "           1       0.64      0.70      0.67      1061\n",
      "\n",
      "    accuracy                           0.76      3000\n",
      "   macro avg       0.74      0.74      0.74      3000\n",
      "weighted avg       0.76      0.76      0.76      3000\n",
      "\n",
      "accuracy_score :  0.7566666666666667\n"
     ]
    }
   ],
   "source": [
    "# classification_report\n",
    "print(classification_report(Y_test, y_pred))\n",
    "print('accuracy_score : ',accuracy_score(Y_test,y_pred))\n"
   ]
  },
  {
   "cell_type": "code",
   "execution_count": 23,
   "metadata": {},
   "outputs": [],
   "source": [
    "# Generate predictions\n",
    "\n",
    "predictions_train = classifier.predict(X_train)\n",
    "predictions_test = classifier.predict(X_test)"
   ]
  },
  {
   "cell_type": "code",
   "execution_count": 24,
   "metadata": {},
   "outputs": [],
   "source": [
    "# find False Positive Rate & True Positive Rate\n",
    "\n",
    "FPR, TPR, a = roc_curve(Y_train, predictions_train)\n",
    "FPR1, TPR1, a1 = roc_curve(Y_test,predictions_test)"
   ]
  },
  {
   "cell_type": "code",
   "execution_count": 25,
   "metadata": {},
   "outputs": [
    {
     "name": "stdout",
     "output_type": "stream",
     "text": [
      "[0. 0. 1.] [0. 1. 1.] [2 1 0]\n",
      "[0.         0.21196493 1.        ] [0.         0.69934025 1.        ] [2 1 0]\n"
     ]
    }
   ],
   "source": [
    "print(FPR, TPR, a)\n",
    "print(FPR1, TPR1, a1)"
   ]
  },
  {
   "cell_type": "code",
   "execution_count": 26,
   "metadata": {},
   "outputs": [
    {
     "name": "stdout",
     "output_type": "stream",
     "text": [
      "Train AUC: 1.000\n",
      "Test AUC: 0.744\n"
     ]
    }
   ],
   "source": [
    "# calculate AUC\n",
    "\n",
    "auc_train = auc(FPR, TPR)\n",
    "print('Train AUC: %0.3f' % auc_train)\n",
    "\n",
    "auc_test = auc(FPR1, TPR1)\n",
    "print('Test AUC: %0.3f' % auc_test)"
   ]
  },
  {
   "cell_type": "code",
   "execution_count": 27,
   "metadata": {},
   "outputs": [
    {
     "data": {
      "image/png": "[encoded data removed]",
      "text/plain": [
       "<Figure size 1080x576 with 1 Axes>"
      ]
     },
     "metadata": {
      "needs_background": "light"
     },
     "output_type": "display_data"
    }
   ],
   "source": [
    "# plot the ROC curve\n",
    "\n",
    "plt.figure(figsize=(15,8))\n",
    "plt.plot(FPR, TPR, label = 'Train AUC: %0.3f'%auc_train)\n",
    "plt.plot(FPR1, TPR1, label = 'Test AUC: %0.3f'%auc_test)\n",
    "\n",
    "plt.plot([1,0],[1,0], ls = '--', color = 'blue', lw = 0.90)\n",
    "\n",
    "plt.title('ROC Curve')\n",
    "plt.legend()\n",
    "plt.show();"
   ]
  },
  {
   "cell_type": "markdown",
   "metadata": {},
   "source": [
    "# 12. Apply ada boosting and gradient boosting models\n"
   ]
  },
  {
   "cell_type": "code",
   "execution_count": 28,
   "metadata": {},
   "outputs": [],
   "source": [
    "# AdaBoostClassifier\n",
    "from sklearn.ensemble import AdaBoostClassifier\n",
    "adaclass = AdaBoostClassifier(n_estimators=50,learning_rate=1)\n",
    "model_adaclass = adaclass.fit(X_train, Y_train)\n",
    "y_pred_adaclass = model_adaclass.predict(X_test)"
   ]
  },
  {
   "cell_type": "code",
   "execution_count": null,
   "metadata": {},
   "outputs": [],
   "source": []
  },
  {
   "cell_type": "code",
   "execution_count": 29,
   "metadata": {},
   "outputs": [],
   "source": [
    "# GradientBoostingClassifier\n",
    "from sklearn.ensemble import GradientBoostingClassifier\n",
    "gb_model = GradientBoostingClassifier(n_estimators=20, learning_rate=0.5, max_features=2, max_depth=2, random_state=0)\n",
    "gb_model.fit(X_train, Y_train)\n",
    "y_pred_gb_model = gb_model.predict(X_test)"
   ]
  },
  {
   "cell_type": "code",
   "execution_count": null,
   "metadata": {},
   "outputs": [],
   "source": []
  },
  {
   "cell_type": "code",
   "execution_count": null,
   "metadata": {},
   "outputs": [],
   "source": []
  },
  {
   "cell_type": "markdown",
   "metadata": {},
   "source": [
    "# 13. Find The Classification Metrics and Give the Observations to Metric for ada and gradient boosting algorithms\n",
    "* Confusion Matrix\n",
    "\n",
    "    * Precision\n",
    "\n",
    "    * Recall\n",
    "\n",
    "    * Specificity\n",
    "\n",
    "    * Sensitivity\n",
    "\n",
    "    * Accuracy\n",
    "\n",
    "    * F1-score\n",
    "\n",
    "    * True Positive Rate\n",
    "\n",
    "    * False Positive Rate\n",
    "\n",
    "* Classification Report\n",
    "\n",
    "* ROC_AUC Curve\n",
    "\n"
   ]
  },
  {
   "cell_type": "markdown",
   "metadata": {},
   "source": [
    "### AdaBoostClassifier"
   ]
  },
  {
   "cell_type": "code",
   "execution_count": 30,
   "metadata": {},
   "outputs": [
    {
     "name": "stdout",
     "output_type": "stream",
     "text": [
      "[[1488  451]\n",
      " [ 233  828]]\n",
      "Accuracy score: 0.772\n",
      "Precision score: 0.6473807662236122\n",
      "Recall score: 0.7803958529688972\n"
     ]
    }
   ],
   "source": [
    "cm_ab = metrics.confusion_matrix(Y_test, y_pred_adaclass) \n",
    "accuracy_ab = metrics.accuracy_score(Y_test, y_pred_adaclass) \n",
    "precision_ab = metrics.precision_score(Y_test, y_pred_adaclass) \n",
    "recall_ab = metrics.recall_score(Y_test, y_pred_adaclass)\n",
    "\n",
    "print(cm_ab)\n",
    "print(\"Accuracy score:\",accuracy_ab)\n",
    "print(\"Precision score:\",precision_ab)\n",
    "print(\"Recall score:\",recall_ab)"
   ]
  },
  {
   "cell_type": "code",
   "execution_count": 31,
   "metadata": {},
   "outputs": [
    {
     "name": "stdout",
     "output_type": "stream",
     "text": [
      "              precision    recall  f1-score   support\n",
      "\n",
      "           0       0.86      0.77      0.81      1939\n",
      "           1       0.65      0.78      0.71      1061\n",
      "\n",
      "    accuracy                           0.77      3000\n",
      "   macro avg       0.76      0.77      0.76      3000\n",
      "weighted avg       0.79      0.77      0.78      3000\n",
      "\n",
      "accuracy_score :  0.772\n"
     ]
    }
   ],
   "source": [
    "# classification_report\n",
    "print(classification_report(Y_test, y_pred_adaclass))\n",
    "print('accuracy_score : ',accuracy_score(Y_test,y_pred_adaclass))\n",
    "\n"
   ]
  },
  {
   "cell_type": "code",
   "execution_count": 32,
   "metadata": {},
   "outputs": [],
   "source": [
    "# Generate predictions\n",
    "\n",
    "predictions_train_ab = model_adaclass.predict(X_train)\n",
    "predictions_test_ab = model_adaclass.predict(X_test)"
   ]
  },
  {
   "cell_type": "code",
   "execution_count": 33,
   "metadata": {},
   "outputs": [],
   "source": [
    "# find False Positive Rate & True Positive Rate\n",
    "\n",
    "FPR_1, TPR_1, b = roc_curve(Y_train, predictions_train_ab)\n",
    "FPR_2, TPR_2, b1 = roc_curve(Y_test,predictions_test_ab)"
   ]
  },
  {
   "cell_type": "code",
   "execution_count": 34,
   "metadata": {},
   "outputs": [
    {
     "name": "stdout",
     "output_type": "stream",
     "text": [
      "[0.         0.23898268 1.        ] [0.         0.79827798 1.        ] [2 1 0]\n",
      "[0.         0.23259412 1.        ] [0.         0.78039585 1.        ] [2 1 0]\n"
     ]
    }
   ],
   "source": [
    "print(FPR_1, TPR_1, b)\n",
    "print(FPR_2, TPR_2, b1)"
   ]
  },
  {
   "cell_type": "code",
   "execution_count": 35,
   "metadata": {},
   "outputs": [
    {
     "name": "stdout",
     "output_type": "stream",
     "text": [
      "Train AUC: 0.780\n",
      "Test AUC: 0.774\n"
     ]
    }
   ],
   "source": [
    "# calculate AUC\n",
    "\n",
    "auc_train_1 = auc(FPR_1, TPR_1)\n",
    "print('Train AUC: %0.3f' % auc_train_1)\n",
    "\n",
    "auc_test_1 = auc(FPR_2, TPR_2)\n",
    "print('Test AUC: %0.3f' % auc_test_1)"
   ]
  },
  {
   "cell_type": "code",
   "execution_count": 36,
   "metadata": {
    "scrolled": false
   },
   "outputs": [
    {
     "data": {
      "image/png": "[encoded data removed]",
      "text/plain": [
       "<Figure size 1080x576 with 1 Axes>"
      ]
     },
     "metadata": {
      "needs_background": "light"
     },
     "output_type": "display_data"
    }
   ],
   "source": [
    "# plot the ROC curve\n",
    "\n",
    "plt.figure(figsize=(15,8))\n",
    "plt.plot(FPR_1, TPR_1, label = 'Train AUC: %0.3f'%auc_train_1)\n",
    "plt.plot(FPR_2, TPR_2, label = 'Test AUC: %0.3f'%auc_test_1)\n",
    "\n",
    "plt.plot([1,0],[1,0], ls = '--', color = 'blue', lw = 0.90)\n",
    "\n",
    "plt.title('ROC Curve')\n",
    "plt.legend()\n",
    "plt.show();"
   ]
  },
  {
   "cell_type": "code",
   "execution_count": null,
   "metadata": {},
   "outputs": [],
   "source": []
  },
  {
   "cell_type": "markdown",
   "metadata": {},
   "source": [
    "### GradientBoostingClassifier"
   ]
  },
  {
   "cell_type": "code",
   "execution_count": 37,
   "metadata": {},
   "outputs": [
    {
     "name": "stdout",
     "output_type": "stream",
     "text": [
      "[[1484  455]\n",
      " [ 225  836]]\n",
      "Accuracy score: 0.7733333333333333\n",
      "Precision score: 0.6475600309837335\n",
      "Recall score: 0.7879359095193214\n"
     ]
    }
   ],
   "source": [
    "cm_gb = metrics.confusion_matrix(Y_test, y_pred_gb_model) \n",
    "accuracy_gb = metrics.accuracy_score(Y_test, y_pred_gb_model) \n",
    "precision_gb = metrics.precision_score(Y_test, y_pred_gb_model) \n",
    "recall_gb = metrics.recall_score(Y_test, y_pred_gb_model)\n",
    "\n",
    "print(cm_gb)\n",
    "print(\"Accuracy score:\",accuracy_gb)\n",
    "print(\"Precision score:\",precision_gb)\n",
    "print(\"Recall score:\",recall_gb)"
   ]
  },
  {
   "cell_type": "code",
   "execution_count": 38,
   "metadata": {},
   "outputs": [
    {
     "name": "stdout",
     "output_type": "stream",
     "text": [
      "              precision    recall  f1-score   support\n",
      "\n",
      "           0       0.87      0.77      0.81      1939\n",
      "           1       0.65      0.79      0.71      1061\n",
      "\n",
      "    accuracy                           0.77      3000\n",
      "   macro avg       0.76      0.78      0.76      3000\n",
      "weighted avg       0.79      0.77      0.78      3000\n",
      "\n",
      "accuracy_score :  0.7733333333333333\n"
     ]
    }
   ],
   "source": [
    "# classification_report\n",
    "print(classification_report(Y_test, y_pred_gb_model))\n",
    "print('accuracy_score : ',accuracy_score(Y_test,y_pred_gb_model))\n"
   ]
  },
  {
   "cell_type": "code",
   "execution_count": 39,
   "metadata": {},
   "outputs": [],
   "source": [
    "# Generate predictions\n",
    "\n",
    "predictions_train_gb = gb_model.predict(X_train)\n",
    "predictions_test_gb = gb_model.predict(X_test)"
   ]
  },
  {
   "cell_type": "code",
   "execution_count": 40,
   "metadata": {},
   "outputs": [],
   "source": [
    "# find False Positive Rate & True Positive Rate\n",
    "\n",
    "FPR_011, TPR_011, c = roc_curve(Y_train, predictions_train_gb)\n",
    "FPR_022, TPR_022, c1 = roc_curve(Y_test,predictions_test_gb)"
   ]
  },
  {
   "cell_type": "code",
   "execution_count": 41,
   "metadata": {},
   "outputs": [
    {
     "name": "stdout",
     "output_type": "stream",
     "text": [
      "[0.         0.24402543 1.        ] [0.         0.80729807 1.        ] [2 1 0]\n",
      "[0.         0.23465704 1.        ] [0.         0.78793591 1.        ] [2 1 0]\n"
     ]
    }
   ],
   "source": [
    "print(FPR_011, TPR_011, c)\n",
    "print(FPR_022, TPR_022, c1)"
   ]
  },
  {
   "cell_type": "code",
   "execution_count": 42,
   "metadata": {},
   "outputs": [
    {
     "name": "stdout",
     "output_type": "stream",
     "text": [
      "Train AUC: 0.782\n",
      "Test AUC: 0.777\n"
     ]
    }
   ],
   "source": [
    "# calculate AUC\n",
    "\n",
    "auc_train_3 = auc(FPR_011, TPR_011)\n",
    "print('Train AUC: %0.3f' % auc_train_3)\n",
    "\n",
    "auc_test_3 = auc(FPR_022, TPR_022)\n",
    "print('Test AUC: %0.3f' % auc_test_3)"
   ]
  },
  {
   "cell_type": "code",
   "execution_count": 43,
   "metadata": {},
   "outputs": [
    {
     "data": {
      "image/png": "[encoded data removed]",
      "text/plain": [
       "<Figure size 1080x576 with 1 Axes>"
      ]
     },
     "metadata": {
      "needs_background": "light"
     },
     "output_type": "display_data"
    }
   ],
   "source": [
    "# plot the ROC curve\n",
    "\n",
    "plt.figure(figsize=(15,8))\n",
    "plt.plot(FPR_011, TPR_011, label = 'Train AUC: %0.3f'%auc_train_3)\n",
    "plt.plot(FPR_022, TPR_022, label = 'Test AUC: %0.3f'%auc_test_3)\n",
    "\n",
    "plt.plot([1,0],[1,0], ls = '--', color = 'blue', lw = 0.90)\n",
    "\n",
    "plt.title('ROC Curve')\n",
    "plt.legend()\n",
    "plt.show();"
   ]
  },
  {
   "cell_type": "markdown",
   "metadata": {},
   "source": [
    "# 15. Try to find out according to metrics which algorithm is appropriate for the given data"
   ]
  },
  {
   "cell_type": "markdown",
   "metadata": {},
   "source": [
    "for the Given data i tested 3 model, one is Random Foresy and another is ADA Boosting & Gradient Boosting , and after checking all those 3 model precision,recall,f1-score,support,accuracy,macro avg,weighted avg,accuracy_score,Train AUC,Test AUC, and then i found that The Gradient Boosting Model is better Curve and accuracy ponint."
   ]
  },
  {
   "cell_type": "markdown",
   "metadata": {},
   "source": [
    "# 17. Discuss what is the difference between model parameters and hyper parameters"
   ]
  },
  {
   "cell_type": "code",
   "execution_count": null,
   "metadata": {},
   "outputs": [],
   "source": []
  },
  {
   "cell_type": "code",
   "execution_count": null,
   "metadata": {},
   "outputs": [],
   "source": []
  },
  {
   "cell_type": "code",
   "execution_count": 47,
   "metadata": {},
   "outputs": [
    {
     "data": {
      "text/plain": [
       "GridSearchCV(cv=5, estimator=RandomForestClassifier(),\n",
       "             param_grid={'criterion': ['gini', 'entropy'],\n",
       "                         'max_features': [1, 2, 3],\n",
       "                         'n_estimators': [20, 50, 100]})"
      ]
     },
     "execution_count": 47,
     "metadata": {},
     "output_type": "execute_result"
    }
   ],
   "source": [
    "from sklearn.model_selection import GridSearchCV\n",
    "pram_grid = {'n_estimators' : [20,50,100],\n",
    "            'criterion': ['gini', 'entropy'],\n",
    "            'max_features':[1,2,3]}\n",
    "model_hyp = RandomForestClassifier()\n",
    "grid_results = GridSearchCV(model_hyp, pram_grid, cv = 5)\n",
    "grid_results.fit(X_train, Y_train)\n"
   ]
  },
  {
   "cell_type": "code",
   "execution_count": 48,
   "metadata": {},
   "outputs": [],
   "source": [
    "y_pred_hyp = grid_results.predict(X_test)"
   ]
  },
  {
   "cell_type": "code",
   "execution_count": 50,
   "metadata": {},
   "outputs": [
    {
     "name": "stdout",
     "output_type": "stream",
     "text": [
      "30.927688121795654\n"
     ]
    }
   ],
   "source": [
    "start = time.time()\n",
    "\n",
    "grid_results.fit(X_train.values, Y_train.values)\n",
    "\n",
    "end = time.time()\n",
    "\n",
    "print(end-start)"
   ]
  },
  {
   "cell_type": "code",
   "execution_count": null,
   "metadata": {},
   "outputs": [],
   "source": []
  },
  {
   "cell_type": "code",
   "execution_count": null,
   "metadata": {},
   "outputs": [],
   "source": []
  },
  {
   "cell_type": "markdown",
   "metadata": {},
   "source": [
    "# 18. Apply the Hyper parameter tuning for Random forest algorithm and now check the metrics\n",
    "\n",
    "* Confusion Matrix\n",
    "\n",
    "    * Precision\n",
    "\n",
    "    * Recall\n",
    "\n",
    "    * Specificity\n",
    "\n",
    "    * Sensitivity\n",
    "\n",
    "    * Accuracy\n",
    "\n",
    "    * F1-score\n",
    "\n",
    "    * True Positive Rate\n",
    "\n",
    "    * False Positive Rate\n",
    "\n",
    "* Classification Report\n",
    "\n",
    "* ROC_AUC Curve"
   ]
  },
  {
   "cell_type": "code",
   "execution_count": 51,
   "metadata": {},
   "outputs": [
    {
     "name": "stdout",
     "output_type": "stream",
     "text": [
      "best_score_ :  0.7515714285714286\n",
      "best_params_ :  {'criterion': 'entropy', 'max_features': 3, 'n_estimators': 100}\n",
      "best_estimator_ :  RandomForestClassifier(criterion='entropy', max_features=3)\n"
     ]
    }
   ],
   "source": [
    "print('best_score_ : ',grid_results.best_score_)\n",
    "print('best_params_ : ', grid_results.best_params_)\n",
    "print('best_estimator_ : ', grid_results.best_estimator_)\n"
   ]
  },
  {
   "cell_type": "code",
   "execution_count": null,
   "metadata": {},
   "outputs": [],
   "source": []
  },
  {
   "cell_type": "code",
   "execution_count": 52,
   "metadata": {},
   "outputs": [
    {
     "name": "stdout",
     "output_type": "stream",
     "text": [
      "[[1528  411]\n",
      " [ 328  733]]\n",
      "Accuracy score: 0.7536666666666667\n",
      "Precision score: 0.6407342657342657\n",
      "Recall score: 0.6908576814326107\n"
     ]
    }
   ],
   "source": [
    "cm_hyp = metrics.confusion_matrix(Y_test, y_pred_hyp) \n",
    "accuracy_hyp = metrics.accuracy_score(Y_test, y_pred_hyp) \n",
    "precision_hyp = metrics.precision_score(Y_test, y_pred_hyp) \n",
    "recall_hyp = metrics.recall_score(Y_test, y_pred_hyp)\n",
    "\n",
    "print(cm_hyp)\n",
    "print(\"Accuracy score:\",accuracy_hyp)\n",
    "print(\"Precision score:\",precision_hyp)\n",
    "print(\"Recall score:\",recall_hyp)"
   ]
  },
  {
   "cell_type": "code",
   "execution_count": 53,
   "metadata": {},
   "outputs": [
    {
     "name": "stdout",
     "output_type": "stream",
     "text": [
      "              precision    recall  f1-score   support\n",
      "\n",
      "           0       0.82      0.79      0.81      1939\n",
      "           1       0.64      0.69      0.66      1061\n",
      "\n",
      "    accuracy                           0.75      3000\n",
      "   macro avg       0.73      0.74      0.74      3000\n",
      "weighted avg       0.76      0.75      0.76      3000\n",
      "\n",
      "accuracy_score :  0.7536666666666667\n"
     ]
    }
   ],
   "source": [
    "# classification_report\n",
    "print(classification_report(Y_test, y_pred_hyp))\n",
    "print('accuracy_score : ',accuracy_score(Y_test,y_pred_hyp))\n"
   ]
  },
  {
   "cell_type": "code",
   "execution_count": 54,
   "metadata": {},
   "outputs": [],
   "source": [
    "# Generate predictions\n",
    "\n",
    "predictions_train_hyp = grid_results.predict(X_train)\n",
    "predictions_test_hyp = grid_results.predict(X_test)"
   ]
  },
  {
   "cell_type": "code",
   "execution_count": 55,
   "metadata": {},
   "outputs": [],
   "source": [
    "# find False Positive Rate & True Positive Rate\n",
    "\n",
    "FPR_001, TPR_001, d = roc_curve(Y_train, predictions_train_hyp)\n",
    "FPR_002, TPR_002, d1 = roc_curve(Y_test,predictions_test_hyp)"
   ]
  },
  {
   "cell_type": "code",
   "execution_count": 56,
   "metadata": {},
   "outputs": [
    {
     "name": "stdout",
     "output_type": "stream",
     "text": [
      "[0. 0. 1.] [0. 1. 1.] [2 1 0]\n",
      "[0.         0.20577617 1.        ] [0.         0.67577757 1.        ] [2 1 0]\n"
     ]
    }
   ],
   "source": [
    "print(FPR_001, TPR_001, d)\n",
    "print(FPR_002, TPR_002, d1)"
   ]
  },
  {
   "cell_type": "code",
   "execution_count": 57,
   "metadata": {},
   "outputs": [
    {
     "name": "stdout",
     "output_type": "stream",
     "text": [
      "Train AUC: 1.000\n",
      "Test AUC: 0.735\n"
     ]
    }
   ],
   "source": [
    "# calculate AUC\n",
    "\n",
    "auc_train_4 = auc(FPR_001, TPR_001)\n",
    "print('Train AUC: %0.3f' % auc_train_4)\n",
    "\n",
    "auc_test_4 = auc(FPR_002, TPR_002)\n",
    "print('Test AUC: %0.3f' % auc_test_4)"
   ]
  },
  {
   "cell_type": "code",
   "execution_count": 58,
   "metadata": {},
   "outputs": [
    {
     "data": {
      "image/png": "[encoded data removed]",
      "text/plain": [
       "<Figure size 1080x576 with 1 Axes>"
      ]
     },
     "metadata": {
      "needs_background": "light"
     },
     "output_type": "display_data"
    }
   ],
   "source": [
    "# plot the ROC curve\n",
    "\n",
    "plt.figure(figsize=(15,8))\n",
    "plt.plot(FPR_001, TPR_001, label = 'Train AUC: %0.3f'%auc_train_4)\n",
    "plt.plot(FPR_002, TPR_002, label = 'Test AUC: %0.3f'%auc_test_4)\n",
    "\n",
    "plt.plot([1,0],[1,0], ls = '--', color = 'blue', lw = 0.90)\n",
    "\n",
    "plt.title('ROC Curve')\n",
    "plt.legend()\n",
    "plt.show();"
   ]
  },
  {
   "cell_type": "markdown",
   "metadata": {},
   "source": [
    "# 19. Now discuss that what you find difference from model parameter and hyper parameters in Random forest algorithm"
   ]
  },
  {
   "cell_type": "code",
   "execution_count": null,
   "metadata": {},
   "outputs": [],
   "source": []
  },
  {
   "cell_type": "code",
   "execution_count": null,
   "metadata": {},
   "outputs": [],
   "source": []
  },
  {
   "cell_type": "code",
   "execution_count": null,
   "metadata": {},
   "outputs": [],
   "source": []
  }
 ],
 "metadata": {
  "kernelspec": {
   "display_name": "Python 3",
   "language": "python",
   "name": "python3"
  },
  "language_info": {
   "codemirror_mode": {
    "name": "ipython",
    "version": 3
   },
   "file_extension": ".py",
   "mimetype": "text/x-python",
   "name": "python",
   "nbconvert_exporter": "python",
   "pygments_lexer": "ipython3",
   "version": "3.8.5"
  }
 },
 "nbformat": 4,
 "nbformat_minor": 4
}
